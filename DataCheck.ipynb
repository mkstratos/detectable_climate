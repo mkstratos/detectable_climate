{
 "cells": [
  {
   "cell_type": "code",
   "execution_count": null,
   "id": "166b227e",
   "metadata": {},
   "outputs": [],
   "source": [
    "from pathlib import Path\n",
    "import json\n",
    "import xarray as xr"
   ]
  },
  {
   "cell_type": "code",
   "execution_count": null,
   "id": "c862b514",
   "metadata": {},
   "outputs": [],
   "source": [
    "default_data_vars = json.load(open(\"run_scripts/vars.json\"))[\"default\"]"
   ]
  },
  {
   "cell_type": "code",
   "execution_count": null,
   "id": "9ba522e1",
   "metadata": {},
   "outputs": [],
   "source": [
    "scratch = Path(\"/lcrc/group/e3sm/ac.mkelleher/scratch/chrys/\")\n",
    "case = \"20221128.F2010.ne4_oQU240.dtcl_control\"\n",
    "case_dir = Path(scratch, case, \"run\")\n",
    "ninst = 8\n",
    "files = {\n",
    "    inst: sorted(case_dir.glob(f\"{case}.eam_{inst:04d}*.nc\"))\n",
    "    for inst in range(1, ninst + 1)\n",
    "}"
   ]
  },
  {
   "cell_type": "code",
   "execution_count": null,
   "id": "fbcf04ac",
   "metadata": {},
   "outputs": [],
   "source": [
    "data = xr.open_dataset(files[1][0])\n",
    "common_vars = set(default_data_vars).intersection(data.data_vars)"
   ]
  },
  {
   "cell_type": "code",
   "execution_count": null,
   "id": "6fdaa395",
   "metadata": {},
   "outputs": [],
   "source": [
    "print(f\"N default: {len(default_data_vars)}\\nN   input: {len(data.data_vars)}\\nN  common: {len(common_vars)}\")\n"
   ]
  },
  {
   "cell_type": "code",
   "execution_count": null,
   "id": "c1d48e6d",
   "metadata": {
    "scrolled": false
   },
   "outputs": [],
   "source": [
    "out_vars = {\"default\": sorted(list(common_vars))}"
   ]
  },
  {
   "cell_type": "code",
   "execution_count": null,
   "id": "bdcdd7f7",
   "metadata": {},
   "outputs": [],
   "source": [
    "with open(Path(\"./run_scripts\", \"new_vars.json\"), \"w\") as _fout:\n",
    "    _fout.write(json.dumps(out_vars))"
   ]
  },
  {
   "cell_type": "code",
   "execution_count": null,
   "id": "967c5027",
   "metadata": {},
   "outputs": [],
   "source": []
  }
 ],
 "metadata": {
  "kernelspec": {
   "display_name": "Python 3 (ipykernel)",
   "language": "python",
   "name": "python3"
  },
  "language_info": {
   "codemirror_mode": {
    "name": "ipython",
    "version": 3
   },
   "file_extension": ".py",
   "mimetype": "text/x-python",
   "name": "python",
   "nbconvert_exporter": "python",
   "pygments_lexer": "ipython3",
   "version": "3.9.15"
  }
 },
 "nbformat": 4,
 "nbformat_minor": 5
}
