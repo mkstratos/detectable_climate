{
 "cells": [
  {
   "cell_type": "code",
   "execution_count": null,
   "metadata": {},
   "outputs": [],
   "source": [
    "import xarray as xr\n",
    "import matplotlib.pyplot as plt\n",
    "from cartopy import crs as ccr\n",
    "from pathlib import Path\n",
    "import scipy.stats as sts\n",
    "import numpy as np\n",
    "import random\n",
    "plt.style.use(\"ggplot\")"
   ]
  },
  {
   "cell_type": "code",
   "execution_count": null,
   "metadata": {},
   "outputs": [],
   "source": [
    "scratch = Path(\"/lcrc/group/e3sm/ac.mkelleher/scratch/chrys/\")\n",
    "# case = \"20221130.F2010.ne4_oQU240.dtcl_control_n0030\"\n",
    "# case = \"20221201.F2010.ne4_oQU240.dtcl_zmconv_c0_0p0022_n0030\"\n",
    "# case = \"20221205.F2010.ne4_oQU240.dtcl_zmconv_c0_0p00201_n0030\"\n",
    "# case = \"20230321.F2010.ne4_oQU240.dtcl_pertlim_1e-10_n0120\"\n",
    "case = \"20230322.F2010.ne4_oQU240.dtcl_pertlim_1e-14_n0120\"\n",
    "case_dir = Path(scratch, case, \"run\")#, \"combined\")\n",
    "ninst = 120"
   ]
  },
  {
   "cell_type": "code",
   "execution_count": null,
   "metadata": {},
   "outputs": [],
   "source": [
    "files = {\n",
    "    inst: sorted(case_dir.glob(f\"{case}.eam_{inst:04d}*aavg.nc\"))\n",
    "    for inst in range(1, ninst + 1)\n",
    "}\n"
   ]
  },
  {
   "cell_type": "code",
   "execution_count": null,
   "metadata": {},
   "outputs": [],
   "source": [
    "ens_data = []\n",
    "for inst in files:\n",
    "    ens_data.append(\n",
    "        xr.open_mfdataset(\n",
    "            files[inst],\n",
    "            decode_times=False\n",
    "        )\n",
    "    )\n",
    "ens_data = xr.concat(ens_data, dim=\"ens\")"
   ]
  },
  {
   "cell_type": "code",
   "execution_count": null,
   "metadata": {
    "scrolled": true
   },
   "outputs": [],
   "source": [
    "ens_data"
   ]
  },
  {
   "cell_type": "code",
   "execution_count": null,
   "metadata": {},
   "outputs": [],
   "source": [
    "ens_shuffle = random.sample(list(ens_data.ens.values), 60)\n",
    "set_a = ens_shuffle[:30]\n",
    "set_b = ens_shuffle[30:]"
   ]
  },
  {
   "cell_type": "code",
   "execution_count": null,
   "metadata": {
    "scrolled": false
   },
   "outputs": [],
   "source": [
    "# (ens_data - ens_data.mean(dim=\"ens\"))[\"U\"].plot.line(x=\"time\")\n",
    "test_var = \"T\"\n",
    "\n",
    "data_a = ens_data[test_var].isel(ens=set_a)\n",
    "data_b = ens_data[test_var].isel(ens=set_b)\n",
    "\n",
    "fig, axes = plt.subplots(2, 2, figsize=(10, 8))\n",
    "# (ens_data[test_var].isel(ens=slice(1, None)) - ens_data.isel(ens=0)[test_var]).plot.line(x=\"time\", ax=axes[0, 0])\n",
    "# (ens_data - ens_data.mean(dim=\"ens\"))[test_var].plot.line(x=\"time\", ax=axes[0, 0], add_legend=False)\n",
    "(data_a - ens_data.mean(dim=\"ens\")[test_var]).plot.line(x=\"time\", ax=axes[0, 0], label=\"Set A\", color=\"C0\", add_legend=False)\n",
    "(data_b - ens_data.mean(dim=\"ens\")[test_var]).plot.line(x=\"time\", ax=axes[0, 0], label=\"Set B\", color=\"C1\", add_legend=False)\n",
    "# ens_data[test_var].plot.line(x=\"time\", ax=axes[0, 0])\n",
    "axes[0, 0].set_title(f\"{test_var} ensemble spread\")\n",
    "\n",
    "ens_data.mean(dim=\"ens\")[test_var].plot(ax=axes[0, 1], label=\"Overall\")\n",
    "data_a.mean(dim=\"ens\").plot(ax=axes[0, 1], label=\"Set A\")\n",
    "data_b.mean(dim=\"ens\").plot(ax=axes[0, 1], label=\"Set B\")\n",
    "axes[0, 1].legend()\n",
    "\n",
    "axes[0, 1].set_title(f\"{test_var} mean\")\n",
    "\n",
    "ens_data.std(dim=\"ens\")[test_var].plot(ax=axes[1, 0])\n",
    "data_a.std(dim=\"ens\").plot(ax=axes[1, 0], label=\"Set A\")\n",
    "data_b.std(dim=\"ens\").plot(ax=axes[1, 0], label=\"Set B\")\n",
    "axes[1, 0].set_title(f\"{test_var} std dev\")\n",
    "\n",
    "ks_time = [\n",
    "    sts.ks_2samp(\n",
    "        data_a.isel(time=_it).values,\n",
    "        data_b.isel(time=_it).values\n",
    "    ) for _it in range(ens_data.time.shape[0])\n",
    "]\n",
    "\n",
    "ks_stat = np.array([_ks.statistic for _ks in ks_time])\n",
    "ks_pval = np.array([_ks.pvalue for _ks in ks_time])\n",
    "times = ens_data.time.values\n",
    "axes[1, 1].plot(times, ks_stat, label=\"Statistic\")\n",
    "axes[1, 1].plot(times, ks_pval, color=\"C1\", label=\"P-value\")\n",
    "axes[1, 1].plot(times[ks_pval < 0.05], ks_pval[ks_pval < 0.05], 'C1o')\n",
    "axes[1, 1].set_title(f\"{test_var} K-S Test\")\n",
    "plt.legend()\n",
    "for _ax in axes.flatten():\n",
    "    _ax.grid(visible=True)\n",
    "plt.tight_layout()"
   ]
  },
  {
   "cell_type": "code",
   "execution_count": null,
   "metadata": {},
   "outputs": [],
   "source": []
  }
 ],
 "metadata": {
  "kernelspec": {
   "display_name": "Python 3 (ipykernel)",
   "language": "python",
   "name": "python3"
  },
  "language_info": {
   "codemirror_mode": {
    "name": "ipython",
    "version": 3
   },
   "file_extension": ".py",
   "mimetype": "text/x-python",
   "name": "python",
   "nbconvert_exporter": "python",
   "pygments_lexer": "ipython3",
   "version": "3.9.15"
  }
 },
 "nbformat": 4,
 "nbformat_minor": 4
}
