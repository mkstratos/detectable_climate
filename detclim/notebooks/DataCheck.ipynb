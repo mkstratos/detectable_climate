{
 "cells": [
  {
   "cell_type": "code",
   "execution_count": null,
   "id": "166b227e",
   "metadata": {},
   "outputs": [],
   "source": [
    "from pathlib import Path\n",
    "import json\n",
    "import xarray as xr"
   ]
  },
  {
   "cell_type": "code",
   "execution_count": null,
   "id": "c862b514",
   "metadata": {},
   "outputs": [],
   "source": [
    "default_data_vars = json.load(open(\"run_scripts/new_vars.json\"))[\"default\"]"
   ]
  },
  {
   "cell_type": "code",
   "execution_count": null,
   "id": "9ba522e1",
   "metadata": {},
   "outputs": [],
   "source": [
    "scratch = Path(\"/lcrc/group/e3sm/ac.mkelleher/scratch/chrys/\")\n",
    "# case = \"20221130.F2010.ne4_oQU240.dtcl_control_n0030\"\n",
    "# case = \"20221201.F2010.ne4_oQU240.dtcl_zmconv_c0_0p00201_n0030\"\n",
    "case = \"20221206.F2010.ne4_oQU240.dtcl_zmconv_c0_0p0030_n0030\"\n",
    "case_dir = Path(scratch, case, \"run\")\n",
    "ninst = 120\n",
    "files = {\n",
    "    inst: sorted(case_dir.glob(f\"{case}.eam_{inst:04d}*aavg.nc\"))\n",
    "    for inst in range(1, ninst + 1)\n",
    "}"
   ]
  },
  {
   "cell_type": "code",
   "execution_count": null,
   "id": "fbcf04ac",
   "metadata": {},
   "outputs": [],
   "source": [
    "data_1 = xr.open_dataset(files[1][0])\n",
    "data_110 = xr.open_dataset(files[110][0])\n",
    "common_vars = set(default_data_vars).intersection(data.data_vars)\n",
    "print(f\"N default: {len(default_data_vars)}\\nN   input: {len(data.data_vars)}\\nN  common: {len(common_vars)}\")"
   ]
  },
  {
   "cell_type": "code",
   "execution_count": null,
   "id": "4035eaee",
   "metadata": {},
   "outputs": [],
   "source": [
    "def check_ensemble_vars(ens_data, common_vars):\n",
    "    \"\"\"Check all common_vars to make sure they're not constant across the ensemble.\"\"\"\n",
    "    const_vars = []\n",
    "    for _var in common_vars:\n",
    "        ens_std = ens_data[_var].mean(dim=\"time\").std(dim=\"ens\").values\n",
    "        if ens_std == 0.0:\n",
    "            const_vars.append(_var)\n",
    "    return const_vars\n",
    "\n",
    "ens_data = xr.open_mfdataset([files[inst][0] for inst in files], combine=\"nested\", concat_dim=\"ens\")\n",
    "const_vars = check_ensemble_vars(ens_data, common_vars)"
   ]
  },
  {
   "cell_type": "code",
   "execution_count": null,
   "id": "9aeb0997",
   "metadata": {},
   "outputs": [],
   "source": [
    "for _var in const_vars:\n",
    "    common_vars.remove(_var)"
   ]
  },
  {
   "cell_type": "code",
   "execution_count": null,
   "id": "992bede7",
   "metadata": {},
   "outputs": [],
   "source": [
    "out_vars = {\"default\": sorted(list(common_vars))}\n",
    "with open(Path(\"./run_scripts\", \"new_vars.json\"), \"w\") as _fout:\n",
    "    _fout.write(json.dumps(out_vars))"
   ]
  },
  {
   "cell_type": "code",
   "execution_count": null,
   "id": "e43c945e",
   "metadata": {},
   "outputs": [],
   "source": [
    "set(data_1.data_vars).difference(data_110.data_vars)"
   ]
  },
  {
   "cell_type": "code",
   "execution_count": null,
   "id": "4329d970",
   "metadata": {},
   "outputs": [],
   "source": []
  }
 ],
 "metadata": {
  "kernelspec": {
   "display_name": "Python 3 (ipykernel)",
   "language": "python",
   "name": "python3"
  },
  "language_info": {
   "codemirror_mode": {
    "name": "ipython",
    "version": 3
   },
   "file_extension": ".py",
   "mimetype": "text/x-python",
   "name": "python",
   "nbconvert_exporter": "python",
   "pygments_lexer": "ipython3",
   "version": "3.9.15"
  }
 },
 "nbformat": 4,
 "nbformat_minor": 5
}
