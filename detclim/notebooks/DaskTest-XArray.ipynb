{
 "cells": [
  {
   "cell_type": "code",
   "execution_count": null,
   "id": "0c2bfe8d",
   "metadata": {},
   "outputs": [],
   "source": [
    "from dask.distributed import Client\n",
    "import dask\n",
    "import numpy as np\n",
    "import dask.array as da\n",
    "from scipy import stats as sts\n",
    "import matplotlib.pyplot as plt\n",
    "import random\n",
    "\n",
    "import xarray as xr\n",
    "from pathlib import Path\n",
    "import json\n",
    "\n",
    "plt.style.use(\"ggplot\")"
   ]
  },
  {
   "cell_type": "code",
   "execution_count": null,
   "id": "e51a5a81",
   "metadata": {},
   "outputs": [],
   "source": [
    "# scheduler_file = \"scheduler.json\"\n",
    "# dask.config.config[\"distributed\"][\"dashboard\"][\"link\"] = \"{JUPYTERHUB_SERVICE_PREFIX}proxy/{host}:{port}/status\"\n",
    "\n",
    "\n",
    "client = Client(n_workers=8, threads_per_worker=1)\n",
    "client"
   ]
  },
  {
   "cell_type": "code",
   "execution_count": null,
   "id": "b04b7742",
   "metadata": {},
   "outputs": [],
   "source": [
    "scratch = Path(\"/lcrc/group/e3sm/ac.mkelleher/scratch/chrys/\")\n",
    "case_abbr = [\"ctl\", \"5pct\"]\n",
    "cases = {\n",
    "    \"ctl\": \"20221130.F2010.ne4_oQU240.dtcl_control_n0030\",\n",
    "    \"5pct\": \"20221205.F2010.ne4_oQU240.dtcl_zmconv_c0_0p00201_n0030\",\n",
    "    \"10pct\": \"20221201.F2010.ne4_oQU240.dtcl_zmconv_c0_0p0022_n0030\",\n",
    "    \"50pct\": \"20221206.F2010.ne4_oQU240.dtcl_zmconv_c0_0p0030_n0030\",\n",
    "}\n",
    "case_dirs = {_case: Path(scratch, cases[_case], \"run\") for _case in case_abbr}\n",
    "ninst = 120\n",
    "REJECT_THR = 0.05"
   ]
  },
  {
   "cell_type": "code",
   "execution_count": null,
   "id": "0cc285fc",
   "metadata": {},
   "outputs": [],
   "source": [
    "files = {\n",
    "    _case: {\n",
    "        inst: sorted(case_dirs[_case].glob(f\"{cases[_case]}.eam_{inst:04d}*aavg.nc\"))\n",
    "        for inst in range(1, ninst + 1)\n",
    "    }\n",
    "    for _case in case_abbr\n",
    "}\n",
    "ens_data = {}\n",
    "for _case in case_abbr:\n",
    "    ens_data[_case] = []\n",
    "    for inst in files[_case]:\n",
    "        ens_data[_case].append(\n",
    "            xr.open_dataset(files[_case][inst][0], decode_times=False)\n",
    "        )\n",
    "    ens_data[_case] = xr.concat(ens_data[_case], dim=\"ens\")"
   ]
  },
  {
   "cell_type": "code",
   "execution_count": null,
   "id": "e6d7fa86",
   "metadata": {},
   "outputs": [],
   "source": [
    "files = {\n",
    "    _case: sorted(case_dirs[_case].glob(f\"{cases[_case]}.eam*aavg.nc\"))\n",
    "    for _case in case_abbr\n",
    "}\n",
    "\n",
    "ens_data = {}\n",
    "for _case in case_abbr:\n",
    "    ens_data[_case] = []\n",
    "    for _file in files[_case]:\n",
    "        ens_data[_case].append(\n",
    "            xr.open_dataset(\n",
    "                _file,\n",
    "                # decode_times=False\n",
    "            )\n",
    "        )\n",
    "    ens_data[_case] = xr.concat(ens_data[_case], dim=\"ens\")\n",
    "\n",
    "# return ens_data"
   ]
  },
  {
   "cell_type": "code",
   "execution_count": null,
   "id": "aed055d9",
   "metadata": {},
   "outputs": [],
   "source": [
    "ens_data[_case][\"time\"]"
   ]
  },
  {
   "cell_type": "code",
   "execution_count": null,
   "id": "a0c5ee6e",
   "metadata": {},
   "outputs": [],
   "source": [
    "# @dask.delayed\n",
    "def ks_rand_sel_xarray(data_1, data_2):\n",
    "    return da.array(\n",
    "        [\n",
    "            sts.ks_2samp(data_1[:, _tix], data_2[:, _tix], method=\"asymp\")\n",
    "            for _tix in range(data_1.shape[1])\n",
    "        ]\n",
    "    )"
   ]
  },
  {
   "cell_type": "code",
   "execution_count": null,
   "id": "a5ced1b0",
   "metadata": {},
   "outputs": [],
   "source": [
    "ens_data[_case][\"T\"]"
   ]
  },
  {
   "cell_type": "code",
   "execution_count": null,
   "id": "ab6b0b91",
   "metadata": {
    "scrolled": false
   },
   "outputs": [],
   "source": [
    "%%time\n",
    "random.seed(101_114)\n",
    "futures = []\n",
    "data_vars = sorted(json.load(open(\"run_scripts/new_vars.json\"))[\"default\"])\n",
    "time_var = \"time\"\n",
    "ens_var = \"ens\"\n",
    "test_size = 30\n",
    "n_iter = 5\n",
    "\n",
    "idx_0 = [\n",
    "    random.sample(\n",
    "        list([_ for _ in range(ens_data[case_abbr[0]][ens_var].shape[0])]), test_size\n",
    "    )\n",
    "    for _ in range(n_iter)\n",
    "]\n",
    "idx_1 = [\n",
    "    random.sample(\n",
    "        list([_ for _ in range(ens_data[case_abbr[1]][ens_var].shape[0])]), test_size\n",
    "    )\n",
    "    for _ in range(n_iter)\n",
    "]\n",
    "\n",
    "for rse in range(n_iter):\n",
    "    var_futures = []\n",
    "    data_0 = ens_data[case_abbr[0]].isel(**{ens_var: idx_0[rse]})\n",
    "    data_1 = ens_data[case_abbr[1]].isel(**{ens_var: idx_1[rse]})\n",
    "\n",
    "    for test_var in data_vars:\n",
    "        var_futures.append(\n",
    "            client.submit(ks_rand_sel_xarray, data_0[test_var], data_1[test_var])\n",
    "        )\n",
    "    futures.append(var_futures)\n",
    "\n",
    "results = da.array(dask.compute(*client.gather(futures)))\n",
    "ks_stat = results[..., 0]\n",
    "ks_pval = results[..., 1]"
   ]
  },
  {
   "cell_type": "code",
   "execution_count": null,
   "id": "76a84629",
   "metadata": {},
   "outputs": [],
   "source": [
    "fig, axis = plt.subplots(1, 1, figsize=(6, 3))\n",
    "REJECT_THR = 0.05\n",
    "\n",
    "n_reject = np.array((ks_pval < REJECT_THR).sum(axis=1))\n",
    "n_reject_mean = np.median(n_reject, axis=0)\n",
    "quantile = 10\n",
    "n_reject_lq = np.percentile(n_reject, quantile, axis=0)\n",
    "n_reject_uq = np.percentile(n_reject, 100 - quantile, axis=0)\n",
    "\n",
    "n_reject_std = n_reject.std(axis=0)\n",
    "# axis.plot(n_reject.T, color=\"grey\", lw=0.5)\n",
    "axis.plot(n_reject_mean, color=\"black\", lw=1.5, label=\"Median\")\n",
    "axis.plot(n_reject_lq, color=\"darkblue\", lw=1.0, ls=\"-\", label=f\"{quantile}%\")\n",
    "axis.plot(n_reject_uq, color=\"darkred\", lw=1.0, ls=\"-\", label=f\"{100 - quantile}%\")\n",
    "axis.axhline(0.05 * ks_pval.shape[1], color=\"#343\", ls=\"-.\")\n",
    "plt.legend()\n",
    "# axis.axhline(REJECT_THR, color=\"black\", ls=\"--\")\n",
    "axis.set_title(f\"Number of variables rejected at {(1 - REJECT_THR) * 100}% confidence\")\n",
    "axis.set_xlabel(\"Timestep\")\n",
    "axis.set_ylabel(\"N variables\")\n",
    "_reject = f\"{REJECT_THR:.2f}\".replace(\".\", \"p\")\n",
    "plt.tight_layout()"
   ]
  },
  {
   "cell_type": "code",
   "execution_count": null,
   "id": "b9621de7",
   "metadata": {},
   "outputs": [],
   "source": [
    "random_index = np.array(\n",
    "    [\n",
    "        [\n",
    "            random.sample(\n",
    "                list(range(ens_data[_abbr][ens_var].shape[0])),\n",
    "                test_size,\n",
    "            )\n",
    "            for _ in range(n_iter)\n",
    "        ]\n",
    "        for _abbr in case_abbr\n",
    "    ]\n",
    ")\n",
    "random_index.mean()"
   ]
  },
  {
   "cell_type": "code",
   "execution_count": null,
   "id": "ee5c2877",
   "metadata": {},
   "outputs": [],
   "source": []
  },
  {
   "cell_type": "code",
   "execution_count": null,
   "id": "f84d7862",
   "metadata": {},
   "outputs": [],
   "source": [
    "out_coords = {\n",
    "    \"iter\": np.arange(5),\n",
    "    \"vars\": data_vars,\n",
    "    \"time\": ens_data[case_abbr[0]][\"time\"],\n",
    "}\n",
    "out_dims = (\"iter\", \"vars\", \"time\")\n",
    "\n",
    "ks_stat_xr = xr.DataArray(\n",
    "    np.array(ks_stat),\n",
    "    coords=out_coords,\n",
    "    dims=out_dims,\n",
    "    attrs={\n",
    "        \"units\": \"\",\n",
    "        \"desc\": \"2-sample K-S test P-value\",\n",
    "        \"long_name\": \"kolmogorov_smirnov_test_p_value\",\n",
    "        \"short_name\": \"ks_pval\",\n",
    "    },\n",
    ")\n",
    "ks_pval_xr = xr.DataArray(\n",
    "    np.array(ks_pval),\n",
    "    coords=out_coords,\n",
    "    dims=out_dims,\n",
    "    attrs={\n",
    "        \"units\": \"\",\n",
    "        \"desc\": \"2-sample K-S test statistic\",\n",
    "        \"long_name\": \"kolmogorov_smirnov_test_statistic\",\n",
    "        \"short_name\": \"ks_stat\",\n",
    "    },\n",
    ")\n",
    "\n",
    "rnd_idx = xr.DataArray(\n",
    "    random_index,\n",
    "    coords={\"case\": [0, 1], \"iter\": out_coords[\"iter\"], \"index\": np.arange(30)},\n",
    "    attrs={\n",
    "        \"units\": \"\",\n",
    "        \"desc\": \"Index of ensemble members for each case and iteration\",\n",
    "    },\n",
    ")\n",
    "ks_ds = xr.Dataset({\"stat\": ks_stat_xr, \"pval\": ks_pval_xr, \"rnd_idx\": rnd_idx})"
   ]
  },
  {
   "cell_type": "code",
   "execution_count": null,
   "id": "a41cd4dd",
   "metadata": {},
   "outputs": [],
   "source": [
    "ks_ds.to_netcdf(\"testout.nc\")"
   ]
  },
  {
   "cell_type": "code",
   "execution_count": null,
   "id": "0ba865b0",
   "metadata": {
    "scrolled": false
   },
   "outputs": [],
   "source": [
    "!ncdump -ch testout.nc"
   ]
  },
  {
   "cell_type": "code",
   "execution_count": null,
   "id": "2ae816c7",
   "metadata": {},
   "outputs": [],
   "source": []
  }
 ],
 "metadata": {
  "kernelspec": {
   "display_name": "Python 3 (ipykernel)",
   "language": "python",
   "name": "python3"
  },
  "language_info": {
   "codemirror_mode": {
    "name": "ipython",
    "version": 3
   },
   "file_extension": ".py",
   "mimetype": "text/x-python",
   "name": "python",
   "nbconvert_exporter": "python",
   "pygments_lexer": "ipython3",
   "version": "3.9.15"
  }
 },
 "nbformat": 4,
 "nbformat_minor": 5
}
