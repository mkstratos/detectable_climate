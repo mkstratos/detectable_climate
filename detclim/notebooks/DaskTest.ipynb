{
 "cells": [
  {
   "cell_type": "code",
   "execution_count": null,
   "id": "0c2bfe8d",
   "metadata": {},
   "outputs": [],
   "source": [
    "from dask.distributed import Client\n",
    "import dask\n",
    "import numpy as np\n",
    "import dask.array as da\n",
    "from scipy import stats as sts\n",
    "import random\n",
    "from dask.distributed import progress"
   ]
  },
  {
   "cell_type": "code",
   "execution_count": null,
   "id": "e51a5a81",
   "metadata": {},
   "outputs": [],
   "source": [
    "# client = Client(n_workers=15)\n",
    "client = Client(n_workers=8)\n",
    "client"
   ]
  },
  {
   "cell_type": "code",
   "execution_count": null,
   "id": "1cb69c92",
   "metadata": {},
   "outputs": [],
   "source": [
    "%%time\n",
    "n_vars = 16\n",
    "n_times = 300\n",
    "n_ens = 120"
   ]
  },
  {
   "cell_type": "code",
   "execution_count": null,
   "id": "89a2114b",
   "metadata": {},
   "outputs": [],
   "source": [
    "arr_size = (n_ens, n_vars, n_times)\n",
    "dx_1 = da.random.normal(0, 2, size=arr_size, chunks=(n_ens, n_vars, n_times // 100))\n",
    "dx_2 = dx_1 + da.random.normal(0.3, 2.1, chunks=(n_ens, n_vars, n_times // 100))"
   ]
  },
  {
   "cell_type": "code",
   "execution_count": null,
   "id": "e1f6621e",
   "metadata": {},
   "outputs": [],
   "source": [
    "dx_1"
   ]
  },
  {
   "cell_type": "code",
   "execution_count": null,
   "id": "d10ad090",
   "metadata": {},
   "outputs": [],
   "source": [
    "dx_1np = np.array(dx_1)\n",
    "dx_2np = np.array(dx_2)"
   ]
  },
  {
   "cell_type": "code",
   "execution_count": null,
   "id": "a0c5ee6e",
   "metadata": {},
   "outputs": [],
   "source": [
    "@dask.delayed\n",
    "def ks_rand_sel(data_1, data_2, idx_1, idx_2):\n",
    "    return da.array(\n",
    "        [\n",
    "            [\n",
    "                sts.ks_2samp(data_1[idx_1, _vix, _tix], data_2[idx_2, _vix, _tix])\n",
    "                for _vix in range(data_1.shape[1])\n",
    "            ]\n",
    "            for _tix in range(data_1.shape[2])\n",
    "        ]\n",
    "    )"
   ]
  },
  {
   "cell_type": "code",
   "execution_count": null,
   "id": "b0562bc9",
   "metadata": {},
   "outputs": [],
   "source": [
    "def ks_rand_sel_np(data_1, data_2, idx_1, idx_2):\n",
    "    return np.array(\n",
    "        [\n",
    "            [\n",
    "                sts.ks_2samp(data_1[idx_1, _vix, _tix], data_2[idx_2, _vix, _tix])\n",
    "                for _vix in range(data_1.shape[1])\n",
    "            ]\n",
    "            for _tix in range(data_1.shape[2])\n",
    "        ]\n",
    "    )"
   ]
  },
  {
   "cell_type": "code",
   "execution_count": null,
   "id": "c2fc69d7",
   "metadata": {},
   "outputs": [],
   "source": [
    "dx_1 = dx_1.rechunk({0: \"auto\", 1: \"auto\", 2: \"auto\"}, block_size_limit=1e8)\n",
    "dx_2 = dx_2.rechunk({0: \"auto\", 1: \"auto\", 2: \"auto\"}, block_size_limit=1e8)\n",
    "dx_1"
   ]
  },
  {
   "cell_type": "code",
   "execution_count": null,
   "id": "ab6b0b91",
   "metadata": {
    "scrolled": false
   },
   "outputs": [],
   "source": [
    "%%time\n",
    "random.seed(101_114)\n",
    "futures = []\n",
    "test_size = 30\n",
    "for rse in range(10):\n",
    "    idx_1 = random.sample(list([_ for _ in range(dx_1.shape[0])]), test_size)\n",
    "    idx_2 = random.sample(list([_ for _ in range(dx_2.shape[0])]), test_size)\n",
    "    futures.append(client.submit(ks_rand_sel, dx_1, dx_2, idx_1, idx_2))\n",
    "results = dask.compute(*client.gather(futures))\n",
    "progress(futures)"
   ]
  },
  {
   "cell_type": "code",
   "execution_count": null,
   "id": "3578f963",
   "metadata": {},
   "outputs": [],
   "source": [
    "%%time\n",
    "random.seed(101_114)\n",
    "futures = []\n",
    "test_size = 30\n",
    "for rse in range(10):\n",
    "    idx_1 = random.sample(list([_ for _ in range(dx_1np.shape[0])]), test_size)\n",
    "    idx_2 = random.sample(list([_ for _ in range(dx_2np.shape[0])]), test_size)\n",
    "    futures.append(ks_rand_sel_np(dx_1np, dx_2np, idx_1, idx_2))"
   ]
  },
  {
   "cell_type": "code",
   "execution_count": null,
   "id": "5957be10",
   "metadata": {},
   "outputs": [],
   "source": [
    "results = da.array(results)"
   ]
  },
  {
   "cell_type": "code",
   "execution_count": null,
   "id": "8668caf6",
   "metadata": {
    "scrolled": false
   },
   "outputs": [],
   "source": [
    "results.var().compute()"
   ]
  },
  {
   "cell_type": "code",
   "execution_count": null,
   "id": "b70125e4",
   "metadata": {},
   "outputs": [],
   "source": []
  }
 ],
 "metadata": {
  "kernelspec": {
   "display_name": "Python 3 (ipykernel)",
   "language": "python",
   "name": "python3"
  },
  "language_info": {
   "codemirror_mode": {
    "name": "ipython",
    "version": 3
   },
   "file_extension": ".py",
   "mimetype": "text/x-python",
   "name": "python",
   "nbconvert_exporter": "python",
   "pygments_lexer": "ipython3",
   "version": "3.9.15"
  }
 },
 "nbformat": 4,
 "nbformat_minor": 5
}
