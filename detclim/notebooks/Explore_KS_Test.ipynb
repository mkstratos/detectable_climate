{
 "cells": [
  {
   "cell_type": "code",
   "execution_count": null,
   "id": "48cc22a2",
   "metadata": {
    "id": "48cc22a2"
   },
   "outputs": [],
   "source": [
    "import numpy as np\n",
    "import matplotlib.pyplot as plt\n",
    "from scipy import stats\n",
    "from statsmodels.stats import multitest as smm\n",
    "\n",
    "plt.style.use(\"ggplot\")"
   ]
  },
  {
   "cell_type": "code",
   "execution_count": null,
   "id": "cf0fd10f",
   "metadata": {
    "id": "cf0fd10f"
   },
   "outputs": [],
   "source": [
    "np.random.seed(710319)\n",
    "n_1 = 30\n",
    "n_2 = 30\n",
    "ninst = 5000\n",
    "n_scales = 20\n",
    "ALPHA = 0.05"
   ]
  },
  {
   "cell_type": "code",
   "execution_count": null,
   "id": "a0d72f6f",
   "metadata": {
    "id": "a0d72f6f"
   },
   "outputs": [],
   "source": [
    "ks_test_wmethod = np.vectorize(\n",
    "    stats.mstats.ks_2samp, signature=\"(n),(n)->(),()\", excluded=[\"method\"]\n",
    ")\n",
    "ks_test_nomethod = np.vectorize(stats.mstats.ks_2samp, signature=\"(n),(n)->(),()\")"
   ]
  },
  {
   "cell_type": "markdown",
   "id": "79577ae7-59a0-4a25-a467-d17e9b5271c3",
   "metadata": {
    "id": "ba41c0c4"
   },
   "source": [
    "```python\n",
    "%%time\n",
    "\n",
    "pvals_ens = []\n",
    "scales = np.linspace(1, 5, n_scales)\n",
    "\n",
    "for _ in range(ninst):\n",
    "    rvs1 = np.array([stats.norm.rvs(size=n_1, loc=0, scale=1) for _ in scales])\n",
    "    rvs2 = np.array([stats.norm.rvs(size=n_2, loc=0, scale=_scale + (np.random.rand(1) / 5)) for _scale in scales])\n",
    "    _, p_val = ks_test_wmethod(rvs1, rvs2, method=\"exact\")\n",
    "    pvals_ens.append(p_val)```"
   ]
  },
  {
   "cell_type": "code",
   "execution_count": null,
   "id": "4a779515",
   "metadata": {
    "id": "4a779515"
   },
   "outputs": [],
   "source": [
    "%%time\n",
    "\n",
    "pvals_ens = []\n",
    "scales = np.linspace(1, 8, n_scales)\n",
    "\n",
    "for _ in range(ninst):\n",
    "    rvs1 = np.array([stats.norm.rvs(size=n_1, loc=0, scale=1) for _ in scales])\n",
    "    rvs2 = np.array(\n",
    "        [stats.norm.rvs(size=n_2, loc=0, scale=_scale) for _scale in scales]\n",
    "    )\n",
    "    # rvs2 = np.array([stats.norm.rvs(size=n_2, loc=0, scale=_scale)  - (rvs1[0] * _scale * np.random.rand(n_1)) for _scale in scales])\n",
    "    _, p_val = ks_test_nomethod(rvs1, rvs2)\n",
    "    pvals_ens.append(p_val)\n",
    "pvals_ens = np.array(pvals_ens)"
   ]
  },
  {
   "cell_type": "code",
   "execution_count": null,
   "id": "81072230",
   "metadata": {
    "id": "81072230"
   },
   "outputs": [],
   "source": [
    "qrt = 5\n",
    "_, axis = plt.subplots(1, 1, figsize=(7, 5))\n",
    "pctiles = np.percentile(pvals_ens, [qrt, 50, 100 - qrt], axis=0)\n",
    "\n",
    "axis.plot(scales - 1.0, pctiles[0], color=\"#2332aa\", lw=2, label=f\"{qrt}%\")\n",
    "axis.plot(scales - 1.0, pctiles[1], color=\"k\", lw=3, label=\"Median\")\n",
    "axis.plot(scales - 1.0, pctiles[2], color=\"#aa2332\", lw=2, label=f\"{100 - qrt}%\")\n",
    "\n",
    "axis.axhline(0.05, color=\"#777977\", ls=\"--\")\n",
    "axis.set_xlabel(\"Std Dev difference\")\n",
    "axis.set_ylabel(\"p-value\")\n",
    "axis.set_title(f\"K-S Test ensemble for {ninst} samples, {n_1} ensemble size\")\n",
    "axis.text(0.05, 0.06, \"5%\")\n",
    "axis.grid(ls=\"--\")\n",
    "plt.legend()\n",
    "plt.tight_layout()\n",
    "plt.savefig(\"ks_explore.png\")"
   ]
  },
  {
   "cell_type": "code",
   "execution_count": null,
   "id": "de73d757-c7d7-42ba-9ff6-761b726dd9da",
   "metadata": {},
   "outputs": [],
   "source": [
    "pctiles_all = {\"unc\": pctiles}\n",
    "pvals_all = {\"unc\": pvals_ens}\n",
    "\n",
    "for _method in [\"fdr_bh\", \"fdr_by\", \"simes-hochberg\", \"fdr_tsbh\"]:\n",
    "    _pvals = np.array(\n",
    "        [\n",
    "            smm.multipletests(\n",
    "                pvals=pvals_ens[:, iix],\n",
    "                alpha=0.01,\n",
    "                method=_method,\n",
    "                is_sorted=False,\n",
    "            )[1]\n",
    "            for iix in range(pvals_ens.shape[1])\n",
    "        ]\n",
    "    ).T\n",
    "\n",
    "    pvals_all[_method] = _pvals\n",
    "    pctiles_all[_method] = np.percentile(_pvals, [qrt, 50, 100 - qrt], axis=0)"
   ]
  },
  {
   "cell_type": "code",
   "execution_count": null,
   "id": "f41faf97-b679-4e14-b582-04effa99c833",
   "metadata": {},
   "outputs": [],
   "source": [
    "_, axis = plt.subplots(1, 1, figsize=(7, 5))\n",
    "for _ix, _method in enumerate(pctiles_all):\n",
    "    if _method == \"unc\":\n",
    "        _color = \"k\"\n",
    "    else:\n",
    "        _color = f\"C{_ix}\"\n",
    "    # axis.plot(scales - 1.0, pctiles_all[_method][0], color=f\"C{_ix}\", lw=2, label=f\"{qrt}%: {_method}\")\n",
    "    # axis.plot(scales - 1.0, pctiles[1], color=\"k\", lw=3, label=\"Median\")\n",
    "    axis.plot(\n",
    "        scales - 1.0,\n",
    "        pctiles_all[_method][2],\n",
    "        \".-\",\n",
    "        color=_color,\n",
    "        lw=2,\n",
    "        label=f\"{100 - qrt}%: {_method}\",\n",
    "    )\n",
    "\n",
    "    axis.axhline(ALPHA, color=\"#777977\", ls=\"--\")\n",
    "    axis.set_xlabel(\"Std Dev difference\")\n",
    "    axis.set_ylabel(\"p-value\")\n",
    "    axis.set_title(f\"K-S Test ensemble for {ninst} samples, {n_1} ensemble size\")\n",
    "    axis.text(ALPHA, 0.06, \"5%\")\n",
    "    axis.grid(ls=\"--\")\n",
    "plt.legend()\n",
    "plt.tight_layout()\n",
    "plt.savefig(\"ks_explore.png\")"
   ]
  },
  {
   "cell_type": "code",
   "execution_count": null,
   "id": "4aab8b73-2179-4aa6-a0ba-9033801f0b21",
   "metadata": {},
   "outputs": [],
   "source": [
    "_, axis = plt.subplots(1, 1, figsize=(9, 6))\n",
    "rejected = {_method: (pvals_all[_method] < ALPHA).sum(axis=0) for _method in pvals_all}\n",
    "\n",
    "for _ix, _method in enumerate(pvals_all):\n",
    "    if _method == \"unc\":\n",
    "        _color = \"k\"\n",
    "        ls_alpha = 1\n",
    "    else:\n",
    "        _color = f\"C{_ix}\"\n",
    "        ls_alpha = 0.5\n",
    "\n",
    "    axis.plot(\n",
    "        scales - 1.0,\n",
    "        rejected[_method],\n",
    "        \"o-\",\n",
    "        color=_color,\n",
    "        lw=4,\n",
    "        label=f\"{_method}\",\n",
    "        alpha=ls_alpha,\n",
    "    )\n",
    "\n",
    "    axis.axhline(ALPHA * pvals_all[_method].shape[0], color=\"#777977\", ls=\"--\")\n",
    "    axis.set_xlabel(\"Std Dev difference\")\n",
    "    axis.set_ylabel(f\"Rejected instances (P < {ALPHA})\")\n",
    "    axis.set_title(f\"K-S Test ensemble for {ninst} samples, {n_1} ensemble size\")\n",
    "    axis.text(ALPHA, 0.06, \"5%\")\n",
    "    axis.grid(ls=\"--\")\n",
    "\n",
    "plt.legend()\n",
    "plt.tight_layout()\n",
    "plt.savefig(\"ks_explore.png\")"
   ]
  },
  {
   "cell_type": "code",
   "execution_count": null,
   "id": "40c81956-fb35-47a0-8841-fee3b6c47d65",
   "metadata": {},
   "outputs": [],
   "source": [
    "fig, axes = plt.subplots(5, 4, figsize=(16, 9))\n",
    "axes = axes.flatten()\n",
    "for idx in range(rvs1.shape[0]):\n",
    "    axes[idx].hist(rvs1[idx] - rvs2[idx], bins=np.arange(-10, 11, 0.25), edgecolor=\"k\")\n",
    "    axes[idx].set_xlim([-12, 12])\n",
    "    axes[idx].set_ylim([0, 6])"
   ]
  },
  {
   "cell_type": "code",
   "execution_count": null,
   "id": "e9aac130-9b88-41cb-b32a-553cffbb542d",
   "metadata": {},
   "outputs": [],
   "source": []
  }
 ],
 "metadata": {
  "colab": {
   "provenance": []
  },
  "kernelspec": {
   "display_name": "Python 3 (ipykernel)",
   "language": "python",
   "name": "python3"
  },
  "language_info": {
   "codemirror_mode": {
    "name": "ipython",
    "version": 3
   },
   "file_extension": ".py",
   "mimetype": "text/x-python",
   "name": "python",
   "nbconvert_exporter": "python",
   "pygments_lexer": "ipython3",
   "version": "3.13.3"
  }
 },
 "nbformat": 4,
 "nbformat_minor": 5
}
