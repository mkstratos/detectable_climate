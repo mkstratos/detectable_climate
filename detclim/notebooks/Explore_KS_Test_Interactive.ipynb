{
 "cells": [
  {
   "cell_type": "code",
   "execution_count": null,
   "id": "48cc22a2",
   "metadata": {
    "id": "48cc22a2"
   },
   "outputs": [],
   "source": [
    "import numpy as np\n",
    "import matplotlib.pyplot as plt\n",
    "from scipy import stats\n",
    "import pandas as pd\n",
    "from statsmodels.stats import multitest as smm\n",
    "import holoviews as hv\n",
    "import hvplot.pandas\n",
    "import panel as pn\n",
    "import random\n",
    "from functools import partial\n",
    "hv.extension(\"bokeh\")"
   ]
  },
  {
   "cell_type": "code",
   "execution_count": null,
   "id": "84d76703-cf3c-4fc1-9b03-1ddd6853c0d5",
   "metadata": {},
   "outputs": [],
   "source": [
    "ks_test_wmethod = np.vectorize(\n",
    "    stats.mstats.ks_2samp, signature=\"(n),(n)->(),()\", excluded=[\"method\"]\n",
    ")\n",
    "\n",
    "ks_test_nomethod = np.vectorize(stats.mstats.ks_2samp, signature=\"(n),(n)->(),()\")\n",
    "\n",
    "def cvm_2samp(x, y):\n",
    "    _res = stats.cramervonmises_2samp(x, y)\n",
    "    return _res.statistic, _res.pvalue\n",
    "\n",
    "cvm_test_nomethod = np.vectorize(cvm_2samp, signature=\"(n),(n)->(),()\")\n",
    "\n",
    "ks_test_wmethod = np.vectorize(\n",
    "    stats.mstats.ks_2samp, signature=\"(n),(n)->(),()\", excluded=[\"method\"]\n",
    ")\n",
    "\n",
    "ks_test_nomethod = np.vectorize(stats.mstats.ks_2samp, signature=\"(n),(n)->(),()\")"
   ]
  },
  {
   "cell_type": "code",
   "execution_count": null,
   "id": "4a779515",
   "metadata": {
    "id": "4a779515"
   },
   "outputs": [],
   "source": [
    "def explore(rvs, alpha=0.05, n_loc_ens=30):\n",
    "    pvals_ens = []\n",
    "    pvals_ens_cvm = []\n",
    "    rvs1, rvs2 = rvs\n",
    "    _smp_a = random.sample(list(range(rvs1.shape[-1])), n_loc_ens)\n",
    "    _smp_b = random.sample(list(range(rvs2.shape[-1])), n_loc_ens)\n",
    "\n",
    "    # for _xi in range(rvs.shape[0]):\n",
    "    _, p_val = ks_test_nomethod(rvs1[:, _smp_a], rvs2[:, _smp_b])\n",
    "    pvals_ens.append(p_val)\n",
    "    pvals_ens = np.array(pvals_ens).squeeze()\n",
    "    \n",
    "    _, p_val_cvm = cvm_test_nomethod(rvs1[:, _smp_a], rvs2[:, _smp_b])\n",
    "    pvals_ens_cvm.append(p_val_cvm)\n",
    "    pvals_ens_cvm = np.array(pvals_ens_cvm).squeeze()\n",
    "    \n",
    "    pvals_all = {\"K-S\": pvals_ens, \"CVM\": pvals_ens_cvm}\n",
    "\n",
    "    fdr_methods = [\n",
    "        \"fdr_bh\",\n",
    "        \"fdr_by\",\n",
    "        # \"fdr_tsbh\",\n",
    "        # \"fdr_tsbky\",\n",
    "    ]\n",
    "    for _base in [\"K-S\", \"CVM\"]:\n",
    "        for _method in fdr_methods:\n",
    "            _pvalsc = smm.multipletests(\n",
    "                pvals=pvals_all[_base].flatten(),\n",
    "                alpha=alpha,\n",
    "                method=_method,\n",
    "                is_sorted=False,\n",
    "            )[1]\n",
    "            pvals_all[f\"{_base}_{_method}\"] = _pvalsc\n",
    "\n",
    "    rejected = {_method: [(pvals_all[_method] < alpha).sum(axis=0)] for _method in pvals_all}\n",
    "\n",
    "    return pd.DataFrame(rejected)\n",
    "\n",
    "NTOTENS = 120\n",
    "\n",
    "def all_explore(alpha, n_loc_ens, scale_min=1, scale_max=5, n_pos=10, n_uncor=0, n_neg_cor=0, ninst=10):\n",
    "    np.random.seed(710319)\n",
    "    nens = 30\n",
    "    nscales = 5\n",
    "    scale_min = 1\n",
    "    scale_max = 5\n",
    "    scales = np.linspace(scale_min, scale_max, nscales, endpoint=True)\n",
    "\n",
    "    # n_uncor = 100\n",
    "    # n_neg_cor = 0\n",
    "    nvars = n_pos + n_uncor + n_neg_cor\n",
    "    _loc = 2\n",
    "    rejected = []\n",
    "\n",
    "    for _inst in range(ninst):\n",
    "        ensembles = []\n",
    "\n",
    "        for _scale in scales:\n",
    "            _ens = [stats.norm.rvs(size=NTOTENS, loc=_loc, scale=_scale)]\n",
    "\n",
    "            for _var in range(n_pos):\n",
    "                _tmp = stats.norm.rvs(size=NTOTENS, loc=_loc, scale=_scale)\n",
    "                _ens.append(_tmp + _ens[0])\n",
    "\n",
    "            for _var in range(n_neg_cor):\n",
    "                _tmp = stats.norm.rvs(size=NTOTENS, loc=_loc, scale=_scale)\n",
    "                _ens.append(_tmp - _ens[0])\n",
    "\n",
    "            for _var in range(n_uncor):\n",
    "                _tmp = stats.norm.rvs(size=NTOTENS, loc=_loc, scale=_scale)\n",
    "                _ens.append(_tmp)\n",
    "\n",
    "            ensembles.append(_ens)\n",
    "        ensembles = np.array(ensembles)\n",
    "\n",
    "        _rej = [explore((ensembles[0], ensembles[i]), alpha, n_loc_ens) for i in range(ensembles.shape[0])]\n",
    "        _rej = pd.concat(_rej)\n",
    "        _rej[\"Scale\"] = scales\n",
    "        _rej[\"Inst\"] = _inst\n",
    "        rejected.append(_rej)\n",
    "\n",
    "    rejected = pd.concat(rejected)\n",
    "    ctl_thr = rejected.groupby(\"Scale\").quantile(1 - alpha).loc[scales.min()][\"K-S\"]\n",
    "    ctl_thr_cvm = rejected.groupby(\"Scale\").quantile(1 - alpha).loc[scales.min()][\"CVM\"]\n",
    "\n",
    "    thr = {\"K-S\": ctl_thr, \"CVM\": ctl_thr_cvm, \"K-S_fdr_bh\": 0, \"K-S_fdr_by\": 0, \"CVM_fdr_bh\": 0, \"CVM_fdr_by\": 0}\n",
    "    rej_out = []\n",
    "    for method in thr: # [\"Uncorrected\", \"fdr_bh\", \"fdr_by\"]:\n",
    "        rejected[f\"{method}_mask\"] = (rejected[method] > thr[method])\n",
    "        _d1 = pd.DataFrame(rejected.groupby(\"Scale\").sum()[f\"{method}_mask\"])\n",
    "        _d1 = _d1.rename(columns={f\"{method}_mask\": method})\n",
    "        rej_out.append(_d1)#.reset_index())\n",
    "    rej_out = pd.concat(rej_out, axis=1)\n",
    "    return rej_out#.groupby(\"Scale\").sum() / nvars"
   ]
  },
  {
   "cell_type": "code",
   "execution_count": null,
   "id": "c131671b-862f-4873-bf51-1c3ab6fde735",
   "metadata": {},
   "outputs": [],
   "source": [
    "# _exp = partial(all_explore)#, ensembles, scales)\n",
    "NVARS = 100\n",
    "nens_slider = pn.widgets.IntSlider(value=30, start=2, end=NTOTENS, step=2, name=f\"NEns (of {NTOTENS})\")\n",
    "alpha_slider = pn.widgets.FloatSlider(value=0.05, start=0.01, end=0.1, step=0.001, name=\"Alpha\")\n",
    "uncor_slider = pn.widgets.IntSlider(value=5, start=0, end=NVARS, step=1, name=f\"Uncorrelated vars\")\n",
    "negcor_slider = pn.widgets.IntSlider(value=5, start=0, end=NVARS, step=1, name=f\"Negative correlated vars\")\n",
    "poscor_slider = pn.widgets.IntSlider(value=5, start=0, end=NVARS, step=1, name=f\"Positive correlated vars\")\n",
    "ninst_slider = pn.widgets.IntSlider(value=10, start=5, end=100, step=2, name=f\"Bootstrap inst\")\n",
    "\n",
    "reject_dfi = hvplot.bind(\n",
    "    all_explore,\n",
    "    alpha=alpha_slider,\n",
    "    n_loc_ens=nens_slider,\n",
    "    n_pos=poscor_slider,\n",
    "    n_uncor=uncor_slider,\n",
    "    n_neg_cor=negcor_slider,\n",
    "    ninst=ninst_slider\n",
    ").interactive().hvplot.line(\n",
    "    x=\"Scale\",\n",
    "    # y=[\"Uncorrected\", \"fdr_bh\", \"fdr_by\"],\n",
    "    y=[\"K-S\", \"CVM\", \"K-S_fdr_bh\", \"K-S_fdr_by\", \"CVM_fdr_bh\", \"CVM_fdr_by\"],\n",
    "    grid=True,\n",
    "    alpha=0.9\n",
    ")"
   ]
  },
  {
   "cell_type": "code",
   "execution_count": null,
   "id": "f68913f9-dc7c-4109-9d4d-acd81a5d071a",
   "metadata": {},
   "outputs": [],
   "source": [
    "reject_dfi.opts(width=900, height=600)"
   ]
  },
  {
   "cell_type": "code",
   "execution_count": null,
   "id": "80a573da-035b-4e58-a892-6c6d29067dbc",
   "metadata": {},
   "outputs": [],
   "source": [
    "_data  = all_explore(\n",
    "    alpha=0.05,\n",
    "    n_loc_ens=30,\n",
    "    scale_min=1.0,\n",
    "    scale_max=2.0,\n",
    "    n_pos=30,\n",
    "    n_uncor=30,\n",
    "    n_neg_cor=30,\n",
    "    ninst=100\n",
    ")\n",
    "# all_explore(alpha, n_loc_ens, scale_min=1, scale_max=5, n_pos=10, n_uncor=0, n_neg_cor=0, ninst=10):\n"
   ]
  },
  {
   "cell_type": "code",
   "execution_count": null,
   "id": "d9b17bcb-e0ed-4919-8bda-e77951bd77d9",
   "metadata": {},
   "outputs": [],
   "source": [
    "_data"
   ]
  },
  {
   "cell_type": "code",
   "execution_count": null,
   "id": "08068a34-5952-484b-a5dd-aa4379470e13",
   "metadata": {},
   "outputs": [],
   "source": [
    "ctl_thr = {_base: _data.groupby(\"Scale\").quantile(.95).loc[1.0][_base] for _base in [\"K-S\", \"CVM\"]}\n",
    "print(ctl_thr)"
   ]
  },
  {
   "cell_type": "code",
   "execution_count": null,
   "id": "43f1eba0-0da3-418a-9cd0-a3e33fc336c9",
   "metadata": {},
   "outputs": [],
   "source": []
  },
  {
   "cell_type": "code",
   "execution_count": null,
   "id": "56fb3072-32e7-4630-94af-60d13e8eee9c",
   "metadata": {},
   "outputs": [],
   "source": []
  },
  {
   "cell_type": "code",
   "execution_count": null,
   "id": "03d21603-a452-44e9-ab9c-6199b95723c7",
   "metadata": {},
   "outputs": [],
   "source": []
  }
 ],
 "metadata": {
  "colab": {
   "provenance": []
  },
  "kernelspec": {
   "display_name": "Python 3 (ipykernel)",
   "language": "python",
   "name": "python3"
  },
  "language_info": {
   "codemirror_mode": {
    "name": "ipython",
    "version": 3
   },
   "file_extension": ".py",
   "mimetype": "text/x-python",
   "name": "python",
   "nbconvert_exporter": "python",
   "pygments_lexer": "ipython3",
   "version": "3.13.5"
  }
 },
 "nbformat": 4,
 "nbformat_minor": 5
}
