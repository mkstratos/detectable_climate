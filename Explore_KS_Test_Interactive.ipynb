{
 "cells": [
  {
   "cell_type": "code",
   "execution_count": null,
   "id": "48cc22a2",
   "metadata": {
    "id": "48cc22a2"
   },
   "outputs": [],
   "source": [
    "import numpy as np\n",
    "import matplotlib.pyplot as plt\n",
    "from scipy import stats\n",
    "import pandas as pd\n",
    "from statsmodels.stats import multitest as smm\n",
    "import holoviews as hv\n",
    "import hvplot.pandas\n",
    "import panel as pn\n",
    "import random \n",
    "from functools import partial\n",
    "hv.extension(\"bokeh\")"
   ]
  },
  {
   "cell_type": "code",
   "execution_count": null,
   "id": "cf0fd10f",
   "metadata": {
    "id": "cf0fd10f"
   },
   "outputs": [],
   "source": [
    "np.random.seed(710319)\n",
    "n_1 = 30\n",
    "n_2 = 30\n",
    "ninst = 5000\n",
    "n_scales = 20\n",
    "ALPHA = 0.05"
   ]
  },
  {
   "cell_type": "code",
   "execution_count": null,
   "id": "a0d72f6f",
   "metadata": {
    "id": "a0d72f6f"
   },
   "outputs": [],
   "source": [
    "ks_test_wmethod = np.vectorize(\n",
    "    stats.mstats.ks_2samp, signature=\"(n),(n)->(),()\", excluded=[\"method\"]\n",
    ")\n",
    "ks_test_nomethod = np.vectorize(stats.mstats.ks_2samp, signature=\"(n),(n)->(),()\")"
   ]
  },
  {
   "cell_type": "code",
   "execution_count": null,
   "id": "1d614b6a-ab1b-4ad6-84ca-6bb6b7f0ee40",
   "metadata": {},
   "outputs": [],
   "source": [
    "min_diff = 1\n",
    "max_diff = 8\n",
    "n_diffs = 20\n",
    "ninst = 1000\n",
    "ntotens = 120\n",
    "\n",
    "pvals_ens = []\n",
    "scales = np.linspace(min_diff, max_diff, n_diffs)\n",
    "rvs1 = []\n",
    "rvs2 = []\n",
    "\n",
    "rvs1 = np.array([[stats.norm.rvs(size=ntotens, loc=0, scale=1) for _ in scales] for _ in range(ninst)])\n",
    "rvs2 = np.array([[stats.norm.rvs(size=ntotens, loc=0, scale=_scale) for _scale in scales] for _ in range(ninst)])"
   ]
  },
  {
   "cell_type": "code",
   "execution_count": null,
   "id": "4a779515",
   "metadata": {
    "id": "4a779515"
   },
   "outputs": [],
   "source": [
    "def explore(rvs, alpha=0.05, n_loc_ens=30):  \n",
    "    rvs1, rvs2 = rvs\n",
    "    pvals_ens = []\n",
    "    _smp = random.sample(list(range(rvs1.shape[-1])), n_loc_ens)\n",
    "    \n",
    "    for _xi in range(rvs1.shape[1]):\n",
    "        _, p_val = ks_test_nomethod(rvs1[:, _xi, _smp], rvs2[:, _xi, _smp])\n",
    "        pvals_ens.append(p_val)\n",
    "\n",
    "    pvals_ens = np.array(pvals_ens)\n",
    "    pvals_all = {\"Uncorrected\": pvals_ens}\n",
    "\n",
    "    _methods = [\n",
    "        \"fdr_bh\",\n",
    "        \"fdr_by\",\n",
    "        \"fdr_tsbh\",\n",
    "        \"fdr_tsbky\",\n",
    "    ]\n",
    "    for _method in _methods:\n",
    "        _pvals = np.array(\n",
    "            [\n",
    "                smm.multipletests(\n",
    "                pvals=pvals_ens[:, iix],\n",
    "                alpha=0.01,\n",
    "                method=_method,\n",
    "                is_sorted=False,\n",
    "                )[1]\n",
    "                for iix in range(pvals_ens.shape[1])\n",
    "            ]\n",
    "        ).T\n",
    "    \n",
    "        pvals_all[_method] = _pvals\n",
    "\n",
    "    rejected = {_method: (pvals_all[_method] < ALPHA).sum(axis=1) for _method in pvals_all}\n",
    "    rejected[\"scales\"] = scales - 1\n",
    "\n",
    "    return pd.DataFrame(rejected)"
   ]
  },
  {
   "cell_type": "code",
   "execution_count": null,
   "id": "c131671b-862f-4873-bf51-1c3ab6fde735",
   "metadata": {},
   "outputs": [],
   "source": [
    "_exp = partial(explore, (rvs1, rvs2))\n",
    "nens = pn.widgets.IntSlider(value=30, start=2, end=ntotens, step=2, name=f\"NEns (of {ntotens})\")\n",
    "alpha = pn.widgets.FloatSlider(value=0.05, start=0.01, end=0.1, step=0.001, name=\"Alpha\")\n",
    "reject_dfi = hvplot.bind(_exp, alpha, nens).interactive().hvplot(x=\"scales\", grid=True, line_width=5, alpha=0.6)"
   ]
  },
  {
   "cell_type": "code",
   "execution_count": null,
   "id": "f68913f9-dc7c-4109-9d4d-acd81a5d071a",
   "metadata": {},
   "outputs": [],
   "source": [
    "reject_dfi.opts(width=900, height=600)"
   ]
  },
  {
   "cell_type": "code",
   "execution_count": null,
   "id": "60818654-f659-4b42-b14a-a18924127cac",
   "metadata": {},
   "outputs": [],
   "source": []
  }
 ],
 "metadata": {
  "colab": {
   "provenance": []
  },
  "kernelspec": {
   "display_name": "Python 3 (ipykernel)",
   "language": "python",
   "name": "python3"
  },
  "language_info": {
   "codemirror_mode": {
    "name": "ipython",
    "version": 3
   },
   "file_extension": ".py",
   "mimetype": "text/x-python",
   "name": "python",
   "nbconvert_exporter": "python",
   "pygments_lexer": "ipython3",
   "version": "3.10.14"
  }
 },
 "nbformat": 4,
 "nbformat_minor": 5
}
