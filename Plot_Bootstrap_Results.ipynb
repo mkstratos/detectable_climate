{
 "cells": [
  {
   "cell_type": "code",
   "execution_count": null,
   "id": "109fadbe",
   "metadata": {},
   "outputs": [],
   "source": [
    "import matplotlib.pyplot as plt\n",
    "import xarray as xr\n",
    "from pathlib import Path\n",
    "import numpy as np\n",
    "import pandas as pd\n",
    "import seaborn as sns\n",
    "from scipy import stats\n",
    "plt.style.use(\"ggplot\")"
   ]
  },
  {
   "cell_type": "code",
   "execution_count": null,
   "id": "93f0bd9b",
   "metadata": {},
   "outputs": [],
   "source": [
    "files = sorted(Path(\"./\").glob(\"bootstrap_output_*n500.nc\"))\n",
    "REJECT_THR = 0.05"
   ]
  },
  {
   "cell_type": "code",
   "execution_count": null,
   "id": "3f05c304",
   "metadata": {
    "scrolled": false
   },
   "outputs": [],
   "source": [
    "for _file in files:\n",
    "    case_a, case_b = _file.stem.split(\"_\")[2:4]\n",
    "    n_iter = int(_file.stem.split(\"_\")[-1][1:])\n",
    "    \n",
    "    ks_res = xr.open_dataset(_file)\n",
    "    ks_pval = ks_res[\"pval\"].values\n",
    "    \n",
    "    fig, axes = plt.subplots(2, 1, figsize=(6, 6))\n",
    "    quantile = REJECT_THR * 100\n",
    "    time_step = np.arange(ks_res.time.shape[0])\n",
    "\n",
    "    n_reject = np.array((ks_pval < REJECT_THR).sum(axis=1))\n",
    "    n_reject_mean = np.median(n_reject, axis=0)\n",
    "    n_reject_lq = np.percentile(n_reject, quantile, axis=0)\n",
    "    n_reject_uq = np.percentile(n_reject, 100 - quantile, axis=0)\n",
    "\n",
    "    axes[0].plot(time_step, n_reject_mean, color=\"black\", lw=1.5, label=\"Median\"),\n",
    "    # ln_lq, = axes[0].plot(n_reject_lq, color=\"darkblue\", lw=1.0, ls=\"-\", label=f\"{quantile}%\"),\n",
    "    # ln_uq, = axes[0].plot(n_reject_uq, color=\"darkred\", lw=1.0, ls=\"-\", label=f\"{100 - quantile}%\")\n",
    "    axes[0].fill_between(time_step, n_reject_lq, n_reject_uq, color=\"C5\", alpha=0.8, label=f\"{100 - quantile}% CI\")\n",
    "    axes[0].legend()\n",
    "\n",
    "    axes[0].axhline(REJECT_THR * ks_pval.shape[1], color=\"#343\", ls=\"-.\")\n",
    "    axes[0].set_title(f\"Number of variables rejected at {(1 - REJECT_THR) * 100}% confidence\")\n",
    "    axes[0].set_xlabel(\"Timestep\")\n",
    "    axes[0].set_ylabel(\"N variables\")\n",
    "\n",
    "    test = (n_reject > ks_pval.shape[1] * REJECT_THR).sum(axis=0)\n",
    "    axes[1].plot(test)\n",
    "    \n",
    "    _reject = f\"{REJECT_THR:.2f}\".replace(\".\", \"p\")\n",
    "    fig.suptitle(f\"{case_a} x {case_b}\")\n",
    "    plt.tight_layout()\n",
    "    plt.savefig(f\"plt_{case_a}-{case_b}_n{n_iter}.png\")"
   ]
  },
  {
   "cell_type": "code",
   "execution_count": null,
   "id": "be016f14",
   "metadata": {},
   "outputs": [],
   "source": [
    "def fmt_case(case):\n",
    "    if case == \"ctl\":\n",
    "        _out = \"Control\"\n",
    "    elif \"old\" in case:\n",
    "        num = float(case.replace(\"old-\", \"\").replace(\"pct\", \"\").replace(\"p\", \".\"))\n",
    "        _out = f\"old {num:.1f}%\"\n",
    "    else:\n",
    "        num = float(case.replace(\"pct\", \"\").replace(\"p\", \".\"))\n",
    "        _out = f\"{num:.1f}%\"\n",
    "    return _out"
   ]
  },
  {
   "cell_type": "code",
   "execution_count": null,
   "id": "5f1d118b",
   "metadata": {},
   "outputs": [],
   "source": [
    "fig, axes = plt.subplots(1, 1, figsize=(12, 6))\n",
    "quantile = REJECT_THR * 100\n",
    "reject_test = {}\n",
    "n_reject = {}\n",
    "for _file in files:\n",
    "    print(_file.stem.split(\"_\"))\n",
    "    case_a, case_b = _file.stem.split(\"_\")[2:4]\n",
    "    \n",
    "    n_iter = int(_file.stem.split(\"_\")[-1][1:])\n",
    "    case_a = fmt_case(case_a)\n",
    "    case_b = fmt_case(case_b)\n",
    "    ks_res = xr.open_dataset(_file)\n",
    "    ks_pval = ks_res[\"pval\"].values\n",
    "    \n",
    "    time_step = np.arange(ks_res.time.shape[0])\n",
    "\n",
    "    n_reject[(case_a, case_b)] = np.array((ks_pval < REJECT_THR).sum(axis=1))\n",
    "    n_reject_mean = np.median(n_reject[(case_a, case_b)], axis=0)\n",
    "    n_reject_lq = np.percentile(n_reject[(case_a, case_b)], quantile, axis=0)\n",
    "    n_reject_uq = np.percentile(n_reject[(case_a, case_b)], 100 - quantile, axis=0)\n",
    "    \n",
    "    reject_test[(case_a, case_b)] = n_reject_uq\n",
    "    \n",
    "    axes.plot(time_step, n_reject_uq, lw=1.5, label=f\"{case_a} x {case_b}\"),\n",
    "    # ln_lq, = axes[0].plot(n_reject_lq, color=\"darkblue\", lw=1.0, ls=\"-\", label=f\"{quantile}%\"),\n",
    "    # ln_uq, = axes[0].plot(n_reject_uq, color=\"darkred\", lw=1.0, ls=\"-\", label=f\"{100 - quantile}%\")\n",
    "    axes.fill_between(time_step, n_reject_lq, n_reject_uq, color=\"grey\", alpha=0.4)#, label=f\"{100 - quantile}% CI\")\n",
    "\n",
    "axes.axhline(REJECT_THR * ks_pval.shape[1], color=\"#343\", ls=\"-.\", label=f\"{REJECT_THR * 100} % of variables\")\n",
    "axes.set_title(f\"Number of variables rejected at {(1 - REJECT_THR) * 100}% confidence\")\n",
    "axes.set_xlabel(\"Timestep\")\n",
    "axes.set_ylabel(\"N variables\")\n",
    "\n",
    "axes.legend()\n",
    "\n",
    "_reject = f\"{REJECT_THR:.2f}\".replace(\".\", \"p\")\n",
    "plt.tight_layout()\n",
    "plt.savefig(f\"plt_all_cases.png\")"
   ]
  },
  {
   "cell_type": "code",
   "execution_count": null,
   "id": "5e7a64be",
   "metadata": {},
   "outputs": [],
   "source": [
    "ctl_key = (\"Control\", \"Control\")\n",
    "test = {\n",
    "    _key: (n_reject[_key] > np.percentile(n_reject[ctl_key], 100 * (1 - REJECT_THR), axis=0)).sum(axis=0) \n",
    "    for _key in reject_test\n",
    "}\n",
    "fig, axes = plt.subplots(1, 1, figsize=(12, 5))\n",
    "\n",
    "for _case in test:\n",
    "    axes.plot(test[_case], label=f\"{_case[0]} x {_case[1]}\", lw=2.1)\n",
    "axes.set_ylabel(f\"Number of iterations\")\n",
    "axes.set_xlabel(\"Time step\")\n",
    "axes.set_title(\"\")\n",
    "axes.legend()"
   ]
  },
  {
   "cell_type": "code",
   "execution_count": null,
   "id": "288372e6",
   "metadata": {},
   "outputs": [],
   "source": [
    "fig, axes = plt.subplots(len(files), 2, figsize=(10, 15), sharex=True)\n",
    "bins = np.arange(0, 121, 4)\n",
    "ex_val = 500 / ((bins.shape[0] - 1) / 30)\n",
    "\n",
    "for file_ix, _file in enumerate(files):\n",
    "    case_a, case_b = _file.stem.split(\"_\")[2:4]\n",
    "    cases = [case_a, case_b]\n",
    "    n_iter = int(_file.stem.split(\"_\")[-1][1:])\n",
    "    ks_res = xr.open_dataset(_file)\n",
    "    \n",
    "    for _case in [0, 1]:\n",
    "        axes[file_ix, _case].axhline(ex_val, color=\"k\", ls=\"--\")\n",
    "        _ = ks_res.rnd_idx[_case].plot.hist(edgecolor=\"k\", bins=bins, ax=axes[file_ix, _case])\n",
    "        axes[file_ix, _case].set_title(cases[_case])\n",
    "        axes[file_ix, _case].set_xlabel(\"\")"
   ]
  },
  {
   "cell_type": "code",
   "execution_count": null,
   "id": "31359b40",
   "metadata": {
    "scrolled": false
   },
   "outputs": [],
   "source": [
    "(ks_pval < REJECT_THR).sum(axis=0)"
   ]
  },
  {
   "cell_type": "code",
   "execution_count": null,
   "id": "43e62374",
   "metadata": {
    "scrolled": false
   },
   "outputs": [],
   "source": [
    "fig, axes = plt.subplots(len(files), 1, figsize=(10, 15), sharex=True)\n",
    "bins = np.arange(0, 121, 4)\n",
    "ex_val = 500 / ((bins.shape[0] - 1) / 30)\n",
    "\n",
    "for file_ix, _file in enumerate(files):\n",
    "    case_a, case_b = _file.stem.split(\"_\")[2:4]\n",
    "    case_a = fmt_case(case_a)\n",
    "    case_b = fmt_case(case_b)\n",
    "    cases = [case_a, case_b]\n",
    "    n_iter = int(_file.stem.split(\"_\")[-1][1:])\n",
    "    ks_res = xr.open_dataset(_file)\n",
    "    ks_pval = ks_res.pval\n",
    "    reject_by_var = pd.DataFrame((ks_pval < REJECT_THR).sum(axis=0).T, columns=ks_res.vars)\n",
    "    mask = (reject_by_var.sum() > reject_by_var.sum().quantile(.9))\n",
    "    \n",
    "    # reject_by_var.loc[:, reject_by_var.mean() >= 0.6].plot(ax=axes[file_ix], legend=False)\n",
    "    reject_by_var.index.name = \"Time Step\"\n",
    "    sns.heatmap(reject_by_var.T[mask], ax=axes[file_ix], vmin=0, vmax=500)\n",
    "    axes[file_ix].set_title(f\"{case_a} x {case_b}\")"
   ]
  },
  {
   "cell_type": "code",
   "execution_count": null,
   "id": "bf179c94",
   "metadata": {},
   "outputs": [],
   "source": [
    "s1 = \"2p5pct\"\n",
    "float(s1)"
   ]
  },
  {
   "cell_type": "code",
   "execution_count": null,
   "id": "f08f8678",
   "metadata": {},
   "outputs": [],
   "source": []
  }
 ],
 "metadata": {
  "kernelspec": {
   "display_name": "Python 3 (ipykernel)",
   "language": "python",
   "name": "python3"
  },
  "language_info": {
   "codemirror_mode": {
    "name": "ipython",
    "version": 3
   },
   "file_extension": ".py",
   "mimetype": "text/x-python",
   "name": "python",
   "nbconvert_exporter": "python",
   "pygments_lexer": "ipython3",
   "version": "3.9.15"
  }
 },
 "nbformat": 4,
 "nbformat_minor": 5
}
