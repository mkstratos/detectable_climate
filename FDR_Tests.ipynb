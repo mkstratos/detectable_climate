{
 "cells": [
  {
   "cell_type": "code",
   "execution_count": null,
   "metadata": {
    "vscode": {
     "languageId": "python"
    }
   },
   "outputs": [],
   "source": [
    "import numpy as np\n",
    "import matplotlib.pyplot as plt\n",
    "from statsmodels.stats import multitest as smm\n",
    "from scipy import stats as sts"
   ]
  },
  {
   "cell_type": "code",
   "execution_count": null,
   "metadata": {
    "vscode": {
     "languageId": "python"
    }
   },
   "outputs": [],
   "source": [
    "n_y = 40\n",
    "n_x = 40\n",
    "\n",
    "n_vars = 40\n",
    "n_ens = 30\n",
    "n_diffs = 100\n",
    "REJECT_THR = 0.05\n",
    "\n",
    "var_offset = np.random.randn(n_vars)[:, None, None, None] * 1e2\n",
    "sys_diff = np.linspace(1e-5, 1, n_diffs)\n",
    "\n",
    "nfail = []\n",
    "nfail_corr = []\n",
    "all_mean_1 = []\n",
    "all_mean_2 = []\n",
    "rmsd = []\n",
    "ks_stats_0 = None\n",
    "\n",
    "for _diff in sys_diff:\n",
    "    data1 = np.random.randn(n_vars, n_ens, n_y, n_x) + var_offset\n",
    "    data2 = np.random.randn(n_vars, n_ens, n_y, n_x) + var_offset + _diff\n",
    "    # data2 = data1 + np.random.rand(n_vars, n_ens, n_y, n_x) * _diff\n",
    "    # fig, axes = plt.subplots(1, 2, figsize=(10, 5))\n",
    "    # axes[0].plot(data1.flatten(), data2.flatten(), '.')\n",
    "    # axes[1].hist([data1.flatten(), data2.flatten()])\n",
    "    t_stats = []\n",
    "    ks_stats = []\n",
    "    means = []\n",
    "    for vix in range(data1.shape[0]):\n",
    "        t_stats.append(\n",
    "            sts.ttest_ind(\n",
    "                data1[vix, :].mean(axis=(-2, -1)), data2[vix, :].mean(axis=(-2, -1))\n",
    "            ),\n",
    "        )\n",
    "\n",
    "        means.append(\n",
    "            (data1[vix, :].mean(axis=(-2, -1)), data2[vix, :].mean(axis=(-2, -1)))\n",
    "        )\n",
    "\n",
    "        ks_stats.append(\n",
    "            sts.mstats.ks_2samp(\n",
    "                data1[vix, :].mean(axis=(-2, -1)), data2[vix, :].mean(axis=(-2, -1))\n",
    "            )\n",
    "        )\n",
    "    means = np.array(means)\n",
    "    t_stats = np.array(t_stats)\n",
    "    ks_stats = np.array(ks_stats)\n",
    "    if ks_stats_0 is None:\n",
    "        ks_stats_0 = ks_stats\n",
    "\n",
    "    rej_corr, pval_corr, _, _ = smm.multipletests(\n",
    "        ks_stats[:, 1], alpha=2.0 * REJECT_THR, method=\"holm\", is_sorted=False\n",
    "    )\n",
    "\n",
    "    all_mean_1.append(means[:, 0, :].mean(axis=(0, -1)))\n",
    "    all_mean_2.append(means[:, 1, :].mean(axis=(0, -1)))\n",
    "    rmsd.append(np.sqrt(np.sum((data1 - data2) ** 2)))\n",
    "\n",
    "    nfail.append((ks_stats[:, 1] < REJECT_THR).sum())\n",
    "    nfail_corr.append((pval_corr < REJECT_THR).sum())\n",
    "\n",
    "nfail = np.array(nfail)\n",
    "nfail_corr = np.array(nfail_corr)\n",
    "all_mean_1 = np.array(all_mean_1)\n",
    "all_mean_2 = np.array(all_mean_2)\n",
    "# print(\n",
    "#   f\"NFAIL = {nfail} ({nfail / n_vars:.3f})\\n\"f\n",
    "#   \"CORR = {nfail_corr} ({nfail_corr / n_vars:.3f})\"\n",
    "# )"
   ]
  },
  {
   "cell_type": "code",
   "execution_count": null,
   "metadata": {
    "vscode": {
     "languageId": "python"
    }
   },
   "outputs": [],
   "source": [
    "plt.figure(figsize=(9, 5))\n",
    "plt.subplot(1, 2, 1)\n",
    "plt.plot(sys_diff, nfail / n_vars, label=\"N Fail\")\n",
    "plt.plot(sys_diff, nfail_corr / n_vars, label=\"N Fail [corr]\")\n",
    "plt.axhline(REJECT_THR, color=\"k\", ls=\"--\")\n",
    "plt.legend()\n",
    "\n",
    "plt.subplot(1, 2, 2)\n",
    "plt.plot(sys_diff, all_mean_1, color=\"C2\", label=\"Data 1\")\n",
    "plt.plot(sys_diff, all_mean_2, color=\"C3\", label=\"Data 2\")\n",
    "plt.legend()\n",
    "\n",
    "plt.figure(figsize=(9, 5))\n",
    "plt.subplot(1, 2, 1)\n",
    "# plt.plot(sys_diff, np.array(rmsd) / n_vars)\n",
    "plt.plot(sys_diff, (all_mean_2 - all_mean_1) ** 2)\n",
    "plt.subplot(1, 2, 2)\n",
    "plt.plot(np.abs(all_mean_2 - all_mean_1), nfail / n_vars, \"x\")\n",
    "plt.plot(np.abs(all_mean_2 - all_mean_1), nfail_corr / n_vars, \".\")\n",
    "# plt.plot(np.array(rmsd) , nfail / n_vars, 'x')\n",
    "# plt.plot(np.array(rmsd) , nfail_corr / n_vars, '.')"
   ]
  },
  {
   "cell_type": "code",
   "execution_count": null,
   "metadata": {
    "vscode": {
     "languageId": "python"
    }
   },
   "outputs": [],
   "source": [
    "pvals = ks_stats_0[:, 1]\n",
    "pvals = np.array(sorted(pvals))\n",
    "p_n = 0.05 * (np.arange(pvals.shape[0]) + 1) / pvals.shape[0]\n",
    "for i in range(pvals.shape[0]):\n",
    "    print(f\"{pvals[i]:.4f}\\t{p_n[i]:.4f} {pvals[i] <= p_n[i]}\")"
   ]
  },
  {
   "cell_type": "code",
   "execution_count": null,
   "metadata": {
    "vscode": {
     "languageId": "python"
    }
   },
   "outputs": [],
   "source": []
  },
  {
   "cell_type": "code",
   "execution_count": null,
   "metadata": {
    "vscode": {
     "languageId": "python"
    }
   },
   "outputs": [],
   "source": [
    "if False:\n",
    "    fig, axes = plt.subplots(2, 5, figsize=(12, 6))\n",
    "    axes = axes.flatten()\n",
    "    pass_col = \"green\"\n",
    "    fail_col = \"red\"\n",
    "\n",
    "    for _vix in range(means.shape[0]):\n",
    "        axes[_vix].hist(means[_vix].T)\n",
    "        # if ks_stats[_vix, 1] < REJECT_THR:\n",
    "        if pval_corr[_vix] < REJECT_THR:\n",
    "            _col = fail_col\n",
    "        else:\n",
    "            _col = pass_col\n",
    "        axes[_vix].set_title(\n",
    "            f\"t={t_stats[_vix, 1]:.2e} ks={ks_stats[_vix, 1]:.2e}\", color=_col\n",
    "        )\n",
    "    fig.tight_layout()"
   ]
  },
  {
   "cell_type": "code",
   "execution_count": null,
   "metadata": {
    "vscode": {
     "languageId": "python"
    }
   },
   "outputs": [],
   "source": [
    "pvals = np.abs(np.random.randn(n_vars))\n",
    "# pvals /= pvals.max()\n",
    "plt.hist(\n",
    "    pvals,\n",
    "    edgecolor=\"k\"\n",
    ")"
   ]
  },
  {
   "cell_type": "code",
   "execution_count": null,
   "metadata": {
    "vscode": {
     "languageId": "python"
    }
   },
   "outputs": [],
   "source": [
    "p_n = .01 * (np.arange(pvals.shape[0]) + 1) / (pvals.shape[0])\n",
    "pvals_s = sorted(pvals)\n",
    "for i in range(pvals.shape[0]):\n",
    "    print(f\"{pvals_s[i]:.4f} \\t {p_n[i]:.4f} {pvals_s[i] <= p_n[i]}\")"
   ]
  },
  {
   "cell_type": "code",
   "execution_count": null,
   "metadata": {
    "vscode": {
     "languageId": "python"
    }
   },
   "outputs": [],
   "source": []
  }
 ],
 "metadata": {
  "kernelspec": {
   "display_name": "Python 3 (ipykernel)",
   "language": "python",
   "name": "python3"
  },
  "language_info": {
   "name": "",
   "version": ""
  },
  "orig_nbformat": 4
 },
 "nbformat": 4,
 "nbformat_minor": 2
}
