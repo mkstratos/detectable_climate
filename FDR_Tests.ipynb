{
 "cells": [
  {
   "cell_type": "code",
   "execution_count": null,
   "metadata": {},
   "outputs": [],
   "source": [
    "import numpy as np\n",
    "import matplotlib.pyplot as plt\n",
    "from statsmodels.stats import multitest as smm\n",
    "from scipy import stats as sts\n",
    "from scipy import stats"
   ]
  },
  {
   "cell_type": "code",
   "execution_count": null,
   "metadata": {},
   "outputs": [],
   "source": [
    "n_y = 30\n",
    "n_x = 30\n",
    "n_vars = 10\n",
    "n_ens = 150\n",
    "\n",
    "var_offset = np.random.randn(n_vars)[:, None, None, None]\n",
    "\n",
    "data1 = np.random.randn(n_vars, n_ens, n_y, n_x) + var_offset\n",
    "data2 = np.random.randn(n_vars, n_ens, n_y, n_x) + var_offset + 1e-1\n",
    "\n",
    "# fig, axes = plt.subplots(1, 2, figsize=(10, 5))\n",
    "# axes[0].plot(data1.flatten(), data2.flatten(), '.')\n",
    "# axes[1].hist([data1.flatten(), data2.flatten()])\n",
    "t_stats = []\n",
    "ks_stats = []\n",
    "means = []\n",
    "for vix in range(data1.shape[0]):\n",
    "    t_stats.append(\n",
    "        sts.ttest_ind(\n",
    "            data1[vix, :].mean(axis=(-2, -1)),\n",
    "            data2[vix, :].mean(axis=(-2, -1))\n",
    "        ),\n",
    "    )\n",
    "\n",
    "    means.append(\n",
    "        (\n",
    "            data1[vix, :].mean(axis=(-2, -1)),\n",
    "            data2[vix, :].mean(axis=(-2, -1))\n",
    "        )\n",
    "    )\n",
    "\n",
    "    ks_stats.append(\n",
    "        stats.mstats.ks_2samp(\n",
    "            data1[vix, :].mean(axis=(-2, -1)),\n",
    "            data2[vix, :].mean(axis=(-2, -1))\n",
    "\n",
    "        )\n",
    "    )\n",
    "means = np.array(means)\n",
    "t_stats = np.array(t_stats)\n",
    "ks_stats = np.array(ks_stats)"
   ]
  },
  {
   "cell_type": "code",
   "execution_count": null,
   "metadata": {},
   "outputs": [],
   "source": [
    "REJECT_THR = 0.05\n",
    "fig, axes = plt.subplots(2, 5, figsize=(12, 6))\n",
    "axes = axes.flatten()\n",
    "pass_col = \"green\"\n",
    "fail_col = \"red\"\n",
    "for _vix in range(means.shape[0]):\n",
    "    axes[_vix].hist(means[_vix].T)\n",
    "    if ks_stats[_vix, 1] < REJECT_THR:\n",
    "        _col = fail_col\n",
    "    else:\n",
    "        _col = pass_col\n",
    "    axes[_vix].set_title(f\"t={t_stats[_vix, 1]:.2e} ks={ks_stats[_vix, 1]:.2e}\", color=_col)\n",
    "fig.tight_layout()"
   ]
  }
 ],
 "metadata": {
  "kernelspec": {
   "display_name": "Python 3 (ipykernel)",
   "language": "python",
   "name": "python3"
  },
  "language_info": {
   "codemirror_mode": {
    "name": "ipython",
    "version": 3
   },
   "file_extension": ".py",
   "mimetype": "text/x-python",
   "name": "python",
   "nbconvert_exporter": "python",
   "pygments_lexer": "ipython3",
   "version": "3.9.15"
  },
  "orig_nbformat": 4
 },
 "nbformat": 4,
 "nbformat_minor": 2
}
