{
 "cells": [
  {
   "cell_type": "code",
   "execution_count": null,
   "id": "48cc22a2",
   "metadata": {},
   "outputs": [],
   "source": [
    "import numpy as np\n",
    "import matplotlib.pyplot as plt\n",
    "from scipy import stats\n",
    "plt.style.use(\"ggplot\")"
   ]
  },
  {
   "cell_type": "code",
   "execution_count": null,
   "id": "cf0fd10f",
   "metadata": {},
   "outputs": [],
   "source": [
    "# np.random.seed(710319)\n",
    "n_1 = 30\n",
    "n_2 = 30\n",
    "\n",
    "rvs1 = stats.norm.rvs(size=n_1, loc=0, scale=1)\n",
    "rvs2 = stats.norm.rvs(size=n_2, loc=0, scale=1)\n",
    "stats.ks_2samp(rvs1, rvs2)"
   ]
  },
  {
   "cell_type": "code",
   "execution_count": null,
   "id": "ba41c0c4",
   "metadata": {},
   "outputs": [],
   "source": [
    "ninst = 1000\n",
    "pvals_ens = []\n",
    "scales = np.linspace(1, 5, 100)\n",
    "for _ in range(ninst):\n",
    "    pvals = []\n",
    "    for _scale in scales:\n",
    "        rvs1 = stats.norm.rvs(size=n_1, loc=0, scale=1)\n",
    "        rvs2 = stats.norm.rvs(size=n_2, loc=0, scale=_scale)\n",
    "        _, p_val = stats.ks_2samp(rvs1, rvs2)\n",
    "        pvals.append(p_val)\n",
    "    pvals_ens.append(pvals)"
   ]
  },
  {
   "cell_type": "code",
   "execution_count": null,
   "id": "534a4a6f",
   "metadata": {},
   "outputs": [],
   "source": [
    "pvals_ens = np.array(pvals_ens)"
   ]
  },
  {
   "cell_type": "code",
   "execution_count": null,
   "id": "81072230",
   "metadata": {},
   "outputs": [],
   "source": [
    "qrt = 10\n",
    "_, axis = plt.subplots(1, 1, figsize=(7, 5))\n",
    "pctiles = np.percentile(pvals_ens, [qrt, 50, 100 - qrt], axis=0)\n",
    "\n",
    "axis.plot(scales - 1.0, pctiles[0], color=\"#2332aa\", lw=2, label=f\"{qrt}%\")\n",
    "axis.plot(scales - 1.0, pctiles[1], color=\"k\", lw=3, label=\"Median\")\n",
    "axis.plot(scales - 1.0, pctiles[2], color=\"#aa2332\", lw=2, label=f\"{100 - qrt}%\")\n",
    "\n",
    "axis.axhline(0.05, color=\"#777977\", ls=\"--\")\n",
    "axis.set_xlabel(\"Std Dev difference\")\n",
    "axis.set_ylabel(\"p-value\")\n",
    "axis.set_title(f\"K-S Test ensemble for {ninst} samples, {n_1} ensemble size\")\n",
    "axis.text(0.05, 0.06, \"5%\")\n",
    "axis.grid(ls=\"--\")\n",
    "plt.legend()\n",
    "plt.tight_layout()\n",
    "plt.savefig(\"ks_explore.png\")"
   ]
  },
  {
   "cell_type": "code",
   "execution_count": null,
   "id": "cb8ccf5d",
   "metadata": {},
   "outputs": [],
   "source": []
  }
 ],
 "metadata": {
  "kernelspec": {
   "display_name": "Python 3 (ipykernel)",
   "language": "python",
   "name": "python3"
  },
  "language_info": {
   "codemirror_mode": {
    "name": "ipython",
    "version": 3
   },
   "file_extension": ".py",
   "mimetype": "text/x-python",
   "name": "python",
   "nbconvert_exporter": "python",
   "pygments_lexer": "ipython3",
   "version": "3.9.15"
  }
 },
 "nbformat": 4,
 "nbformat_minor": 5
}
