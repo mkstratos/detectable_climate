{
 "cells": [
  {
   "cell_type": "code",
   "execution_count": null,
   "id": "48cc22a2",
   "metadata": {},
   "outputs": [],
   "source": [
    "import numpy as np\n",
    "import matplotlib.pyplot as plt\n",
    "from scipy import stats\n",
    "plt.style.use(\"ggplot\")"
   ]
  },
  {
   "cell_type": "code",
   "execution_count": null,
   "id": "cf0fd10f",
   "metadata": {},
   "outputs": [],
   "source": [
    "# np.random.seed(710319)\n",
    "n_1 = 40\n",
    "n_2 = 40\n",
    "ninst = 100\n",
    "n_scales = 1000"
   ]
  },
  {
   "cell_type": "code",
   "execution_count": null,
   "id": "a0d72f6f",
   "metadata": {},
   "outputs": [],
   "source": [
    "ks_test_wmethod = np.vectorize(\n",
    "    stats.mstats.ks_2samp, signature=\"(n),(n)->(),()\", excluded=[\"method\"]\n",
    ")\n",
    "ks_test_nomethod = np.vectorize(stats.mstats.ks_2samp, signature=\"(n),(n)->(),()\")"
   ]
  },
  {
   "cell_type": "code",
   "execution_count": null,
   "id": "ba41c0c4",
   "metadata": {
    "scrolled": true
   },
   "outputs": [],
   "source": [
    "%%time\n",
    "\n",
    "pvals_ens = []\n",
    "scales = np.linspace(1, 5, n_scales)\n",
    "\n",
    "for _ in range(ninst):\n",
    "    rvs1 = np.array([stats.norm.rvs(size=n_1, loc=0, scale=1) for _ in scales])\n",
    "    rvs2 = np.array([stats.norm.rvs(size=n_2, loc=0, scale=_scale + (np.random.rand(1) / 5)) for _scale in scales])\n",
    "    _, p_val = ks_test_wmethod(rvs1, rvs2, method=\"exact\")\n",
    "    pvals_ens.append(p_val)"
   ]
  },
  {
   "cell_type": "code",
   "execution_count": null,
   "id": "4a779515",
   "metadata": {},
   "outputs": [],
   "source": [
    "%%time\n",
    "\n",
    "pvals_ens = []\n",
    "scales = np.linspace(1, 5, n_scales)\n",
    "\n",
    "for _ in range(ninst):\n",
    "    rvs1 = np.array([stats.norm.rvs(size=n_1, loc=0, scale=1) for _ in scales])\n",
    "    rvs2 = np.array([stats.norm.rvs(size=n_2, loc=0, scale=_scale + (np.random.rand(1) / 5)) for _scale in scales])\n",
    "    _, p_val = ks_test_nomethod(rvs1, rvs2)\n",
    "    pvals_ens.append(p_val)"
   ]
  },
  {
   "cell_type": "code",
   "execution_count": null,
   "id": "534a4a6f",
   "metadata": {},
   "outputs": [],
   "source": [
    "pvals_ens = np.array(pvals_ens)"
   ]
  },
  {
   "cell_type": "code",
   "execution_count": null,
   "id": "81072230",
   "metadata": {
    "scrolled": false
   },
   "outputs": [],
   "source": [
    "qrt = 5\n",
    "_, axis = plt.subplots(1, 1, figsize=(7, 5))\n",
    "pctiles = np.percentile(pvals_ens, [qrt, 50, 100 - qrt], axis=0)\n",
    "\n",
    "axis.plot(scales - 1.0, pctiles[0], color=\"#2332aa\", lw=2, label=f\"{qrt}%\")\n",
    "axis.plot(scales - 1.0, pctiles[1], color=\"k\", lw=3, label=\"Median\")\n",
    "axis.plot(scales - 1.0, pctiles[2], color=\"#aa2332\", lw=2, label=f\"{100 - qrt}%\")\n",
    "\n",
    "axis.axhline(0.05, color=\"#777977\", ls=\"--\")\n",
    "axis.set_xlabel(\"Std Dev difference\")\n",
    "axis.set_ylabel(\"p-value\")\n",
    "axis.set_title(f\"K-S Test ensemble for {ninst} samples, {n_1} ensemble size\")\n",
    "axis.text(0.05, 0.06, \"5%\")\n",
    "axis.grid(ls=\"--\")\n",
    "plt.legend()\n",
    "plt.tight_layout()\n",
    "plt.savefig(\"ks_explore.png\")"
   ]
  },
  {
   "cell_type": "code",
   "execution_count": null,
   "id": "18413f8c",
   "metadata": {},
   "outputs": [],
   "source": []
  }
 ],
 "metadata": {
  "kernelspec": {
   "display_name": "Python 3 (ipykernel)",
   "language": "python",
   "name": "python3"
  },
  "language_info": {
   "codemirror_mode": {
    "name": "ipython",
    "version": 3
   },
   "file_extension": ".py",
   "mimetype": "text/x-python",
   "name": "python",
   "nbconvert_exporter": "python",
   "pygments_lexer": "ipython3",
   "version": "3.9.15"
  }
 },
 "nbformat": 4,
 "nbformat_minor": 5
}
